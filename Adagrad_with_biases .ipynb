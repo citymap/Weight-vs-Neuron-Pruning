{
  "nbformat": 4,
  "nbformat_minor": 0,
  "metadata": {
    "colab": {
      "name": "Adagrad with biases.ipynb",
      "version": "0.3.2",
      "provenance": [],
      "collapsed_sections": []
    },
    "kernelspec": {
      "name": "python3",
      "display_name": "Python 3"
    }
  },
  "cells": [
    {
      "cell_type": "code",
      "metadata": {
        "id": "XiAQnoMsQhIf",
        "colab_type": "code",
        "colab": {}
      },
      "source": [
        "from google.colab import drive"
      ],
      "execution_count": 0,
      "outputs": []
    },
    {
      "cell_type": "code",
      "metadata": {
        "id": "jrmw7BIgQtoi",
        "colab_type": "code",
        "outputId": "e486a1ed-9e38-4c2c-a184-615c8a136f8e",
        "colab": {
          "base_uri": "https://localhost:8080/",
          "height": 122
        }
      },
      "source": [
        "drive.mount('/content/gdrive')"
      ],
      "execution_count": 0,
      "outputs": [
        {
          "output_type": "stream",
          "text": [
            "Go to this URL in a browser: https://accounts.google.com/o/oauth2/auth?client_id=947318989803-6bn6qk8qdgf4n4g3pfee6491hc0brc4i.apps.googleusercontent.com&redirect_uri=urn%3Aietf%3Awg%3Aoauth%3A2.0%3Aoob&scope=email%20https%3A%2F%2Fwww.googleapis.com%2Fauth%2Fdocs.test%20https%3A%2F%2Fwww.googleapis.com%2Fauth%2Fdrive%20https%3A%2F%2Fwww.googleapis.com%2Fauth%2Fdrive.photos.readonly%20https%3A%2F%2Fwww.googleapis.com%2Fauth%2Fpeopleapi.readonly&response_type=code\n",
            "\n",
            "Enter your authorization code:\n",
            "··········\n",
            "Mounted at /content/gdrive\n"
          ],
          "name": "stdout"
        }
      ]
    },
    {
      "cell_type": "code",
      "metadata": {
        "id": "NimH1DadRirX",
        "colab_type": "code",
        "colab": {}
      },
      "source": [
        "import tensorflow as tf\n",
        "\n",
        "#(x_train, y_train), (x_test, y_test) = tf.keras.datasets.mnist.load_data()"
      ],
      "execution_count": 0,
      "outputs": []
    },
    {
      "cell_type": "code",
      "metadata": {
        "id": "Add9M_vM4aAh",
        "colab_type": "code",
        "colab": {}
      },
      "source": [
        "import pandas as pd\n",
        "import numpy as np"
      ],
      "execution_count": 0,
      "outputs": []
    },
    {
      "cell_type": "code",
      "metadata": {
        "id": "P-u4L_8pLo3n",
        "colab_type": "code",
        "outputId": "e9e93cb6-734b-4c2f-870a-b45ef2fa14fa",
        "colab": {
          "base_uri": "https://localhost:8080/",
          "height": 530
        }
      },
      "source": [
        "from tensorflow.examples.tutorials.mnist import input_data\n",
        "mnist = input_data.read_data_sets(\"/tmp/data\", one_hot=True)"
      ],
      "execution_count": 0,
      "outputs": [
        {
          "output_type": "stream",
          "text": [
            "WARNING:tensorflow:From <ipython-input-5-3033b8b99067>:2: read_data_sets (from tensorflow.contrib.learn.python.learn.datasets.mnist) is deprecated and will be removed in a future version.\n",
            "Instructions for updating:\n",
            "Please use alternatives such as official/mnist/dataset.py from tensorflow/models.\n",
            "WARNING:tensorflow:From /usr/local/lib/python3.6/dist-packages/tensorflow/contrib/learn/python/learn/datasets/mnist.py:260: maybe_download (from tensorflow.contrib.learn.python.learn.datasets.base) is deprecated and will be removed in a future version.\n",
            "Instructions for updating:\n",
            "Please write your own downloading logic.\n",
            "WARNING:tensorflow:From /usr/local/lib/python3.6/dist-packages/tensorflow/contrib/learn/python/learn/datasets/base.py:252: _internal_retry.<locals>.wrap.<locals>.wrapped_fn (from tensorflow.contrib.learn.python.learn.datasets.base) is deprecated and will be removed in a future version.\n",
            "Instructions for updating:\n",
            "Please use urllib or similar directly.\n",
            "Successfully downloaded train-images-idx3-ubyte.gz 9912422 bytes.\n",
            "WARNING:tensorflow:From /usr/local/lib/python3.6/dist-packages/tensorflow/contrib/learn/python/learn/datasets/mnist.py:262: extract_images (from tensorflow.contrib.learn.python.learn.datasets.mnist) is deprecated and will be removed in a future version.\n",
            "Instructions for updating:\n",
            "Please use tf.data to implement this functionality.\n",
            "Extracting /tmp/data/train-images-idx3-ubyte.gz\n",
            "Successfully downloaded train-labels-idx1-ubyte.gz 28881 bytes.\n",
            "WARNING:tensorflow:From /usr/local/lib/python3.6/dist-packages/tensorflow/contrib/learn/python/learn/datasets/mnist.py:267: extract_labels (from tensorflow.contrib.learn.python.learn.datasets.mnist) is deprecated and will be removed in a future version.\n",
            "Instructions for updating:\n",
            "Please use tf.data to implement this functionality.\n",
            "Extracting /tmp/data/train-labels-idx1-ubyte.gz\n",
            "WARNING:tensorflow:From /usr/local/lib/python3.6/dist-packages/tensorflow/contrib/learn/python/learn/datasets/mnist.py:110: dense_to_one_hot (from tensorflow.contrib.learn.python.learn.datasets.mnist) is deprecated and will be removed in a future version.\n",
            "Instructions for updating:\n",
            "Please use tf.one_hot on tensors.\n",
            "Successfully downloaded t10k-images-idx3-ubyte.gz 1648877 bytes.\n",
            "Extracting /tmp/data/t10k-images-idx3-ubyte.gz\n",
            "Successfully downloaded t10k-labels-idx1-ubyte.gz 4542 bytes.\n",
            "Extracting /tmp/data/t10k-labels-idx1-ubyte.gz\n",
            "WARNING:tensorflow:From /usr/local/lib/python3.6/dist-packages/tensorflow/contrib/learn/python/learn/datasets/mnist.py:290: DataSet.__init__ (from tensorflow.contrib.learn.python.learn.datasets.mnist) is deprecated and will be removed in a future version.\n",
            "Instructions for updating:\n",
            "Please use alternatives such as official/mnist/dataset.py from tensorflow/models.\n"
          ],
          "name": "stdout"
        }
      ]
    },
    {
      "cell_type": "code",
      "metadata": {
        "id": "tAXrPd0qq9na",
        "colab_type": "code",
        "colab": {}
      },
      "source": [
        "n_train = mnist.train.num_examples \n",
        "n_validation = mnist.validation.num_examples  \n",
        "n_test = mnist.test.num_examples  "
      ],
      "execution_count": 0,
      "outputs": []
    },
    {
      "cell_type": "code",
      "metadata": {
        "id": "MQwQ03iirk-r",
        "colab_type": "code",
        "colab": {}
      },
      "source": [
        "n_input = 784 \n",
        "#according to problem statement\n",
        "n_hidden1 = 1000  \n",
        "n_hidden2 = 1000\n",
        "n_hidden3 = 500\n",
        "n_hidden4 = 200\n",
        "n_output = 10  # 0-9 "
      ],
      "execution_count": 0,
      "outputs": []
    },
    {
      "cell_type": "code",
      "metadata": {
        "id": "NmfqJjlPDuNX",
        "colab_type": "code",
        "colab": {}
      },
      "source": [
        "k =np.arange(0,100,2)\n",
        "#k=[0,5,10,20,25,30,35,40,45,50,55,60,65,70,75,80,90,92,95,97,99]"
      ],
      "execution_count": 0,
      "outputs": []
    },
    {
      "cell_type": "code",
      "metadata": {
        "id": "piw09YiZsCOa",
        "colab_type": "code",
        "colab": {}
      },
      "source": [
        "#parameters\n",
        "learning_rate = 0.00001\n",
        "n_iterations = 5000\n",
        "batch_size = 128\n",
        "dropout = 0.5"
      ],
      "execution_count": 0,
      "outputs": []
    },
    {
      "cell_type": "code",
      "metadata": {
        "id": "KHUCy_vdSBCI",
        "colab_type": "code",
        "colab": {}
      },
      "source": [
        "#place holder variables\n",
        "X = tf.placeholder(\"float\", [None, n_input])\n",
        "Y = tf.placeholder(\"float\", [None, n_output])\n",
        "keep_prob = tf.placeholder(tf.float32)"
      ],
      "execution_count": 0,
      "outputs": []
    },
    {
      "cell_type": "code",
      "metadata": {
        "id": "YoIXz38ZSG3n",
        "colab_type": "code",
        "outputId": "3ba34861-486b-4a96-8c69-30cf8e8fa40d",
        "colab": {
          "base_uri": "https://localhost:8080/",
          "height": 88
        }
      },
      "source": [
        "a = tf.Variable(tf.truncated_normal([n_input, n_hidden1]))\n",
        "b = tf.Variable(tf.truncated_normal([n_hidden1, n_hidden2]))\n",
        "c = tf.Variable(tf.truncated_normal([n_hidden2, n_hidden3]))\n",
        "d = tf.Variable(tf.truncated_normal([n_hidden3, n_hidden4]))\n",
        "e = tf.Variable(tf.truncated_normal([n_hidden4, n_output]))\n"
      ],
      "execution_count": 0,
      "outputs": [
        {
          "output_type": "stream",
          "text": [
            "WARNING:tensorflow:From /usr/local/lib/python3.6/dist-packages/tensorflow/python/framework/op_def_library.py:263: colocate_with (from tensorflow.python.framework.ops) is deprecated and will be removed in a future version.\n",
            "Instructions for updating:\n",
            "Colocations handled automatically by placer.\n"
          ],
          "name": "stdout"
        }
      ]
    },
    {
      "cell_type": "code",
      "metadata": {
        "id": "3OvNlNEMkXhK",
        "colab_type": "code",
        "colab": {}
      },
      "source": [
        "weights = {\n",
        "    'w1': a,\n",
        "    'w2': b,\n",
        "    'w3': c,\n",
        "    'w4': d,\n",
        "    'out': e\n",
        "}"
      ],
      "execution_count": 0,
      "outputs": []
    },
    {
      "cell_type": "code",
      "metadata": {
        "id": "22EXGytZsWNt",
        "colab_type": "code",
        "colab": {}
      },
      "source": [
        "biases = {\n",
        "    'b1': tf.Variable(tf.constant(0.1, shape=[n_hidden1])),\n",
        "    'b2': tf.Variable(tf.constant(0.1, shape=[n_hidden2])),\n",
        "    'b3': tf.Variable(tf.constant(0.1, shape=[n_hidden3])),\n",
        "    'b4': tf.Variable(tf.constant(0.1, shape=[n_hidden4])),\n",
        "    'out': tf.Variable(tf.constant(0.1, shape=[n_output]))\n",
        "}"
      ],
      "execution_count": 0,
      "outputs": []
    },
    {
      "cell_type": "code",
      "metadata": {
        "id": "5LTYNSIDsukK",
        "colab_type": "code",
        "colab": {}
      },
      "source": [
        ""
      ],
      "execution_count": 0,
      "outputs": []
    },
    {
      "cell_type": "code",
      "metadata": {
        "id": "po6-5JfTsZAj",
        "colab_type": "code",
        "outputId": "eb788045-2dba-4023-8627-cb176a10546a",
        "colab": {
          "base_uri": "https://localhost:8080/",
          "height": 88
        }
      },
      "source": [
        "layer_1 = tf.add(tf.matmul(X, weights['w1']), biases['b1'])\n",
        "layer_1 = tf.nn.relu(layer_1)\n",
        "layer_2 = tf.add(tf.matmul(layer_1, weights['w2']), biases['b2'])\n",
        "layer_2 = tf.nn.relu(layer_2)\n",
        "layer_3 = tf.add(tf.matmul(layer_2, weights['w3']), biases['b3'])\n",
        "layer_3 = tf.nn.relu(layer_3)\n",
        "layer_4 = tf.add(tf.matmul(layer_3,weights['w4']),biases['b4'])\n",
        "layer_4 = tf.nn.relu(layer_4)\n",
        "layer_drop = tf.nn.dropout(layer_4, keep_prob)\n",
        "output_layer = tf.matmul(layer_4, weights['out']) + biases['out']"
      ],
      "execution_count": 0,
      "outputs": [
        {
          "output_type": "stream",
          "text": [
            "WARNING:tensorflow:From <ipython-input-14-0dd4a2dac366>:9: calling dropout (from tensorflow.python.ops.nn_ops) with keep_prob is deprecated and will be removed in a future version.\n",
            "Instructions for updating:\n",
            "Please use `rate` instead of `keep_prob`. Rate should be set to `rate = 1 - keep_prob`.\n"
          ],
          "name": "stdout"
        }
      ]
    },
    {
      "cell_type": "code",
      "metadata": {
        "id": "190TUYWMsvqZ",
        "colab_type": "code",
        "outputId": "9244be14-6272-4320-b4dc-0be3c10b15a6",
        "colab": {
          "base_uri": "https://localhost:8080/",
          "height": 173
        }
      },
      "source": [
        "cross_entropy = tf.reduce_mean(tf.nn.softmax_cross_entropy_with_logits(labels=Y, logits=output_layer))\n",
        "train_step = tf.train.AdamOptimizer(1e-4).minimize(cross_entropy)"
      ],
      "execution_count": 0,
      "outputs": [
        {
          "output_type": "stream",
          "text": [
            "WARNING:tensorflow:From <ipython-input-15-812430f7e244>:1: softmax_cross_entropy_with_logits (from tensorflow.python.ops.nn_ops) is deprecated and will be removed in a future version.\n",
            "Instructions for updating:\n",
            "\n",
            "Future major versions of TensorFlow will allow gradients to flow\n",
            "into the labels input on backprop by default.\n",
            "\n",
            "See `tf.nn.softmax_cross_entropy_with_logits_v2`.\n",
            "\n"
          ],
          "name": "stdout"
        }
      ]
    },
    {
      "cell_type": "code",
      "metadata": {
        "id": "8fahov9ms9JR",
        "colab_type": "code",
        "colab": {}
      },
      "source": [
        "correct_pred = tf.equal(tf.argmax(output_layer, 1), tf.argmax(Y, 1))\n",
        "accuracy = tf.reduce_mean(tf.cast(correct_pred, tf.float32))"
      ],
      "execution_count": 0,
      "outputs": []
    },
    {
      "cell_type": "code",
      "metadata": {
        "id": "zb9vET-7SlP_",
        "colab_type": "code",
        "colab": {}
      },
      "source": [
        "init = tf.global_variables_initializer()\n",
        "sess = tf.Session()\n",
        "sess.run(init)"
      ],
      "execution_count": 0,
      "outputs": []
    },
    {
      "cell_type": "code",
      "metadata": {
        "id": "P548QtgTtC5J",
        "colab_type": "code",
        "outputId": "58d733a6-ffb6-443c-f1af-ebf3b47da964",
        "colab": {
          "base_uri": "https://localhost:8080/",
          "height": 867
        }
      },
      "source": [
        "for i in range(n_iterations):\n",
        "    batch_x, batch_y = mnist.train.next_batch(batch_size)\n",
        "    sess.run(train_step, feed_dict={\n",
        "        X: batch_x, Y: batch_y, keep_prob: dropout\n",
        "        })\n",
        "\n",
        "    # print loss and accuracy (per minibatch)\n",
        "    if i % 100 == 0:\n",
        "        minibatch_loss, minibatch_accuracy = sess.run([cross_entropy, accuracy],feed_dict={X: batch_x, Y: batch_y, keep_prob: 1.0})\n",
        "        print(\"Iteration\",str(i),\"\\t| Loss =\",str(minibatch_loss),\"\\t| Accuracy =\",str(minibatch_accuracy))"
      ],
      "execution_count": 0,
      "outputs": [
        {
          "output_type": "stream",
          "text": [
            "Iteration 0 \t| Loss = 808477.4 \t| Accuracy = 0.1171875\n",
            "Iteration 100 \t| Loss = 102465.81 \t| Accuracy = 0.375\n",
            "Iteration 200 \t| Loss = 90641.57 \t| Accuracy = 0.53125\n",
            "Iteration 300 \t| Loss = 47027.867 \t| Accuracy = 0.609375\n",
            "Iteration 400 \t| Loss = 21275.262 \t| Accuracy = 0.7890625\n",
            "Iteration 500 \t| Loss = 21385.146 \t| Accuracy = 0.7890625\n",
            "Iteration 600 \t| Loss = 29992.836 \t| Accuracy = 0.7734375\n",
            "Iteration 700 \t| Loss = 29733.611 \t| Accuracy = 0.78125\n",
            "Iteration 800 \t| Loss = 16531.465 \t| Accuracy = 0.859375\n",
            "Iteration 900 \t| Loss = 16161.283 \t| Accuracy = 0.8359375\n",
            "Iteration 1000 \t| Loss = 17706.85 \t| Accuracy = 0.8203125\n",
            "Iteration 1100 \t| Loss = 15889.618 \t| Accuracy = 0.7890625\n",
            "Iteration 1200 \t| Loss = 12616.734 \t| Accuracy = 0.84375\n",
            "Iteration 1300 \t| Loss = 11027.944 \t| Accuracy = 0.8828125\n",
            "Iteration 1400 \t| Loss = 10744.167 \t| Accuracy = 0.8671875\n",
            "Iteration 1500 \t| Loss = 16389.664 \t| Accuracy = 0.828125\n",
            "Iteration 1600 \t| Loss = 10838.636 \t| Accuracy = 0.8515625\n",
            "Iteration 1700 \t| Loss = 15600.453 \t| Accuracy = 0.8828125\n",
            "Iteration 1800 \t| Loss = 13497.562 \t| Accuracy = 0.9140625\n",
            "Iteration 1900 \t| Loss = 5438.331 \t| Accuracy = 0.9375\n",
            "Iteration 2000 \t| Loss = 4009.6926 \t| Accuracy = 0.8984375\n",
            "Iteration 2100 \t| Loss = 13670.963 \t| Accuracy = 0.8515625\n",
            "Iteration 2200 \t| Loss = 6237.675 \t| Accuracy = 0.953125\n",
            "Iteration 2300 \t| Loss = 7292.0645 \t| Accuracy = 0.8984375\n",
            "Iteration 2400 \t| Loss = 7805.3877 \t| Accuracy = 0.8828125\n",
            "Iteration 2500 \t| Loss = 7570.498 \t| Accuracy = 0.8984375\n",
            "Iteration 2600 \t| Loss = 1710.9087 \t| Accuracy = 0.953125\n",
            "Iteration 2700 \t| Loss = 5972.394 \t| Accuracy = 0.9375\n",
            "Iteration 2800 \t| Loss = 5021.33 \t| Accuracy = 0.9296875\n",
            "Iteration 2900 \t| Loss = 5554.984 \t| Accuracy = 0.8984375\n",
            "Iteration 3000 \t| Loss = 7815.193 \t| Accuracy = 0.9375\n",
            "Iteration 3100 \t| Loss = 3895.8464 \t| Accuracy = 0.9296875\n",
            "Iteration 3200 \t| Loss = 8287.993 \t| Accuracy = 0.890625\n",
            "Iteration 3300 \t| Loss = 3520.288 \t| Accuracy = 0.9375\n",
            "Iteration 3400 \t| Loss = 4651.6123 \t| Accuracy = 0.9375\n",
            "Iteration 3500 \t| Loss = 7782.066 \t| Accuracy = 0.9453125\n",
            "Iteration 3600 \t| Loss = 3765.6804 \t| Accuracy = 0.9609375\n",
            "Iteration 3700 \t| Loss = 2982.0852 \t| Accuracy = 0.953125\n",
            "Iteration 3800 \t| Loss = 4715.68 \t| Accuracy = 0.9453125\n",
            "Iteration 3900 \t| Loss = 2271.5288 \t| Accuracy = 0.953125\n",
            "Iteration 4000 \t| Loss = 96.96411 \t| Accuracy = 0.9921875\n",
            "Iteration 4100 \t| Loss = 5845.201 \t| Accuracy = 0.9140625\n",
            "Iteration 4200 \t| Loss = 2682.9497 \t| Accuracy = 0.953125\n",
            "Iteration 4300 \t| Loss = 4874.299 \t| Accuracy = 0.9453125\n",
            "Iteration 4400 \t| Loss = 3033.3198 \t| Accuracy = 0.953125\n",
            "Iteration 4500 \t| Loss = 5830.463 \t| Accuracy = 0.9140625\n",
            "Iteration 4600 \t| Loss = 2642.4956 \t| Accuracy = 0.9296875\n",
            "Iteration 4700 \t| Loss = 2901.6697 \t| Accuracy = 0.9609375\n",
            "Iteration 4800 \t| Loss = 263.1751 \t| Accuracy = 0.984375\n",
            "Iteration 4900 \t| Loss = 506.42078 \t| Accuracy = 0.9765625\n"
          ],
          "name": "stdout"
        }
      ]
    },
    {
      "cell_type": "code",
      "metadata": {
        "id": "ly0b_7ca0c8n",
        "colab_type": "code",
        "colab": {}
      },
      "source": [
        "#save the model\n",
        "saver = tf.train.Saver()\n",
        "save_path = saver.save(sess, \"/tmp/model.ckpt\")"
      ],
      "execution_count": 0,
      "outputs": []
    },
    {
      "cell_type": "code",
      "metadata": {
        "id": "gOUiwmULMeTL",
        "colab_type": "code",
        "outputId": "49a0aff7-c452-45d7-893a-3d3314f1a21e",
        "colab": {
          "base_uri": "https://localhost:8080/",
          "height": 105
        }
      },
      "source": [
        "  saver.restore(sess, \"/tmp/model.ckpt\")\n"
      ],
      "execution_count": 0,
      "outputs": [
        {
          "output_type": "stream",
          "text": [
            "WARNING:tensorflow:From /usr/local/lib/python3.6/dist-packages/tensorflow/python/training/saver.py:1266: checkpoint_exists (from tensorflow.python.training.checkpoint_management) is deprecated and will be removed in a future version.\n",
            "Instructions for updating:\n",
            "Use standard file APIs to check for files with this prefix.\n",
            "INFO:tensorflow:Restoring parameters from /tmp/model.ckpt\n"
          ],
          "name": "stdout"
        }
      ]
    },
    {
      "cell_type": "code",
      "metadata": {
        "id": "e9Ag6tDKtFyh",
        "colab_type": "code",
        "outputId": "6d06fd16-5937-460d-cf73-1b2196f4c1a2",
        "colab": {
          "base_uri": "https://localhost:8080/",
          "height": 51
        }
      },
      "source": [
        "test_accuracy = sess.run(accuracy, feed_dict={X: mnist.test.images, Y: mnist.test.labels, keep_prob: 1.0})\n",
        "print(\"\\nAccuracy on test set:\", test_accuracy)"
      ],
      "execution_count": 0,
      "outputs": [
        {
          "output_type": "stream",
          "text": [
            "\n",
            "Accuracy on test set: 0.9127\n"
          ],
          "name": "stdout"
        }
      ]
    },
    {
      "cell_type": "code",
      "metadata": {
        "id": "WsVvrsI9uf1X",
        "colab_type": "code",
        "outputId": "48b30e8e-ccb2-40c5-faff-183775dfa326",
        "colab": {
          "base_uri": "https://localhost:8080/",
          "height": 187
        }
      },
      "source": [
        "tf.get_collection(tf.GraphKeys.TRAINABLE_VARIABLES)"
      ],
      "execution_count": 0,
      "outputs": [
        {
          "output_type": "execute_result",
          "data": {
            "text/plain": [
              "[<tf.Variable 'Variable:0' shape=(784, 1000) dtype=float32_ref>,\n",
              " <tf.Variable 'Variable_1:0' shape=(1000, 1000) dtype=float32_ref>,\n",
              " <tf.Variable 'Variable_2:0' shape=(1000, 500) dtype=float32_ref>,\n",
              " <tf.Variable 'Variable_3:0' shape=(500, 200) dtype=float32_ref>,\n",
              " <tf.Variable 'Variable_4:0' shape=(200, 10) dtype=float32_ref>,\n",
              " <tf.Variable 'Variable_5:0' shape=(1000,) dtype=float32_ref>,\n",
              " <tf.Variable 'Variable_6:0' shape=(1000,) dtype=float32_ref>,\n",
              " <tf.Variable 'Variable_7:0' shape=(500,) dtype=float32_ref>,\n",
              " <tf.Variable 'Variable_8:0' shape=(200,) dtype=float32_ref>,\n",
              " <tf.Variable 'Variable_9:0' shape=(10,) dtype=float32_ref>]"
            ]
          },
          "metadata": {
            "tags": []
          },
          "execution_count": 22
        }
      ]
    },
    {
      "cell_type": "code",
      "metadata": {
        "id": "hrd7TRK3kHS5",
        "colab_type": "code",
        "colab": {}
      },
      "source": [
        "def get_indices_of_k_smallest(arr, k):\n",
        "    idx = np.argpartition(arr.ravel(), k)\n",
        "    return np.array(np.unravel_index(idx, arr.shape))[:, range(k)].transpose().tolist()"
      ],
      "execution_count": 0,
      "outputs": []
    },
    {
      "cell_type": "markdown",
      "metadata": {
        "id": "W2C4co7CsgIP",
        "colab_type": "text"
      },
      "source": [
        "## Weight pruning\n"
      ]
    },
    {
      "cell_type": "markdown",
      "metadata": {
        "id": "b3izMVVif-Zu",
        "colab_type": "text"
      },
      "source": [
        "Loop from here"
      ]
    },
    {
      "cell_type": "code",
      "metadata": {
        "id": "wdedOPXxgMcp",
        "colab_type": "code",
        "outputId": "d82e4ca4-892d-41b8-e3db-921109f9d202",
        "colab": {
          "base_uri": "https://localhost:8080/",
          "height": 2567
        }
      },
      "source": [
        "plt_var = np.zeros(len(k))\n",
        "for p in range(len(k)):\n",
        "  saver.restore(sess, \"/tmp/model.ckpt\")\n",
        "  var1 = [v for v in tf.trainable_variables() if v.name == \"Variable:0\"]\n",
        "  var2 = [v for v in tf.trainable_variables() if v.name == \"Variable_1:0\"]\n",
        "  var3 = [v for v in tf.trainable_variables() if v.name == \"Variable_2:0\"]\n",
        "  var4 = [v for v in tf.trainable_variables() if v.name == \"Variable_3:0\"]\n",
        "  l=sess.run(var1)\n",
        "  l = np.array(l)\n",
        "  l =l.reshape(784,1000)\n",
        "  m=sess.run(var2)\n",
        "  m = np.array(m)\n",
        "  m =m.reshape(1000,1000)\n",
        "  n=sess.run(var3)\n",
        "  n = np.array(n)\n",
        "  n =n.reshape(1000,500)\n",
        "  o=sess.run(var4)\n",
        "  o = np.array(o)\n",
        "  o =o.reshape(500,200)\n",
        "  w = get_indices_of_k_smallest(l,int(1000*k[p]/100))\n",
        "  x = get_indices_of_k_smallest(m,int(1000*k[p]/100))\n",
        "  y = get_indices_of_k_smallest(n,int(500*k[p]/100))\n",
        "  z = get_indices_of_k_smallest(o,int(200*k[p]/100))\n",
        "  for _ in w:\n",
        "    l[_[0]][_[1]]=0\n",
        "  for _ in x:\n",
        "    m[_[0]][_[1]]=0\n",
        "  for _ in y:\n",
        "    n[_[0]][_[1]]=0\n",
        "  for _ in z:\n",
        "    o[_[0]][_[1]]=0\n",
        "  sess.run(a.assign(l))\n",
        "  sess.run(b.assign(m))\n",
        "  sess.run(c.assign(n))\n",
        "  sess.run(d.assign(o))\n",
        "\n",
        "  test_accuracy = sess.run(accuracy, feed_dict={X: mnist.test.images, Y: mnist.test.labels, keep_prob: 1.0})\n",
        "  print(\"\\nAccuracy on test set:\", test_accuracy)  \n",
        "  plt_var[p] = test_accuracy"
      ],
      "execution_count": 0,
      "outputs": [
        {
          "output_type": "stream",
          "text": [
            "INFO:tensorflow:Restoring parameters from /tmp/model.ckpt\n",
            "\n",
            "Accuracy on test set: 0.9127\n",
            "INFO:tensorflow:Restoring parameters from /tmp/model.ckpt\n",
            "\n",
            "Accuracy on test set: 0.9115\n",
            "INFO:tensorflow:Restoring parameters from /tmp/model.ckpt\n",
            "\n",
            "Accuracy on test set: 0.9104\n",
            "INFO:tensorflow:Restoring parameters from /tmp/model.ckpt\n",
            "\n",
            "Accuracy on test set: 0.9087\n",
            "INFO:tensorflow:Restoring parameters from /tmp/model.ckpt\n",
            "\n",
            "Accuracy on test set: 0.9082\n",
            "INFO:tensorflow:Restoring parameters from /tmp/model.ckpt\n",
            "\n",
            "Accuracy on test set: 0.9076\n",
            "INFO:tensorflow:Restoring parameters from /tmp/model.ckpt\n",
            "\n",
            "Accuracy on test set: 0.9067\n",
            "INFO:tensorflow:Restoring parameters from /tmp/model.ckpt\n",
            "\n",
            "Accuracy on test set: 0.9057\n",
            "INFO:tensorflow:Restoring parameters from /tmp/model.ckpt\n",
            "\n",
            "Accuracy on test set: 0.9054\n",
            "INFO:tensorflow:Restoring parameters from /tmp/model.ckpt\n",
            "\n",
            "Accuracy on test set: 0.9046\n",
            "INFO:tensorflow:Restoring parameters from /tmp/model.ckpt\n",
            "\n",
            "Accuracy on test set: 0.9028\n",
            "INFO:tensorflow:Restoring parameters from /tmp/model.ckpt\n",
            "\n",
            "Accuracy on test set: 0.9024\n",
            "INFO:tensorflow:Restoring parameters from /tmp/model.ckpt\n",
            "\n",
            "Accuracy on test set: 0.9011\n",
            "INFO:tensorflow:Restoring parameters from /tmp/model.ckpt\n",
            "\n",
            "Accuracy on test set: 0.8984\n",
            "INFO:tensorflow:Restoring parameters from /tmp/model.ckpt\n",
            "\n",
            "Accuracy on test set: 0.8983\n",
            "INFO:tensorflow:Restoring parameters from /tmp/model.ckpt\n",
            "\n",
            "Accuracy on test set: 0.8977\n",
            "INFO:tensorflow:Restoring parameters from /tmp/model.ckpt\n",
            "\n",
            "Accuracy on test set: 0.896\n",
            "INFO:tensorflow:Restoring parameters from /tmp/model.ckpt\n",
            "\n",
            "Accuracy on test set: 0.8977\n",
            "INFO:tensorflow:Restoring parameters from /tmp/model.ckpt\n",
            "\n",
            "Accuracy on test set: 0.8976\n",
            "INFO:tensorflow:Restoring parameters from /tmp/model.ckpt\n",
            "\n",
            "Accuracy on test set: 0.8957\n",
            "INFO:tensorflow:Restoring parameters from /tmp/model.ckpt\n",
            "\n",
            "Accuracy on test set: 0.8932\n",
            "INFO:tensorflow:Restoring parameters from /tmp/model.ckpt\n",
            "\n",
            "Accuracy on test set: 0.8921\n",
            "INFO:tensorflow:Restoring parameters from /tmp/model.ckpt\n",
            "\n",
            "Accuracy on test set: 0.8922\n",
            "INFO:tensorflow:Restoring parameters from /tmp/model.ckpt\n",
            "\n",
            "Accuracy on test set: 0.8912\n",
            "INFO:tensorflow:Restoring parameters from /tmp/model.ckpt\n",
            "\n",
            "Accuracy on test set: 0.8884\n",
            "INFO:tensorflow:Restoring parameters from /tmp/model.ckpt\n",
            "\n",
            "Accuracy on test set: 0.8863\n",
            "INFO:tensorflow:Restoring parameters from /tmp/model.ckpt\n",
            "\n",
            "Accuracy on test set: 0.883\n",
            "INFO:tensorflow:Restoring parameters from /tmp/model.ckpt\n",
            "\n",
            "Accuracy on test set: 0.8807\n",
            "INFO:tensorflow:Restoring parameters from /tmp/model.ckpt\n",
            "\n",
            "Accuracy on test set: 0.8813\n",
            "INFO:tensorflow:Restoring parameters from /tmp/model.ckpt\n",
            "\n",
            "Accuracy on test set: 0.8802\n",
            "INFO:tensorflow:Restoring parameters from /tmp/model.ckpt\n",
            "\n",
            "Accuracy on test set: 0.8794\n",
            "INFO:tensorflow:Restoring parameters from /tmp/model.ckpt\n",
            "\n",
            "Accuracy on test set: 0.8797\n",
            "INFO:tensorflow:Restoring parameters from /tmp/model.ckpt\n",
            "\n",
            "Accuracy on test set: 0.8804\n",
            "INFO:tensorflow:Restoring parameters from /tmp/model.ckpt\n",
            "\n",
            "Accuracy on test set: 0.8808\n",
            "INFO:tensorflow:Restoring parameters from /tmp/model.ckpt\n",
            "\n",
            "Accuracy on test set: 0.8777\n",
            "INFO:tensorflow:Restoring parameters from /tmp/model.ckpt\n",
            "\n",
            "Accuracy on test set: 0.8769\n",
            "INFO:tensorflow:Restoring parameters from /tmp/model.ckpt\n",
            "\n",
            "Accuracy on test set: 0.8782\n",
            "INFO:tensorflow:Restoring parameters from /tmp/model.ckpt\n",
            "\n",
            "Accuracy on test set: 0.8786\n",
            "INFO:tensorflow:Restoring parameters from /tmp/model.ckpt\n",
            "\n",
            "Accuracy on test set: 0.8789\n",
            "INFO:tensorflow:Restoring parameters from /tmp/model.ckpt\n",
            "\n",
            "Accuracy on test set: 0.8785\n",
            "INFO:tensorflow:Restoring parameters from /tmp/model.ckpt\n",
            "\n",
            "Accuracy on test set: 0.8771\n",
            "INFO:tensorflow:Restoring parameters from /tmp/model.ckpt\n",
            "\n",
            "Accuracy on test set: 0.8771\n",
            "INFO:tensorflow:Restoring parameters from /tmp/model.ckpt\n",
            "\n",
            "Accuracy on test set: 0.8738\n",
            "INFO:tensorflow:Restoring parameters from /tmp/model.ckpt\n",
            "\n",
            "Accuracy on test set: 0.8718\n",
            "INFO:tensorflow:Restoring parameters from /tmp/model.ckpt\n",
            "\n",
            "Accuracy on test set: 0.8709\n",
            "INFO:tensorflow:Restoring parameters from /tmp/model.ckpt\n",
            "\n",
            "Accuracy on test set: 0.8703\n",
            "INFO:tensorflow:Restoring parameters from /tmp/model.ckpt\n",
            "\n",
            "Accuracy on test set: 0.8676\n",
            "INFO:tensorflow:Restoring parameters from /tmp/model.ckpt\n",
            "\n",
            "Accuracy on test set: 0.8667\n",
            "INFO:tensorflow:Restoring parameters from /tmp/model.ckpt\n",
            "\n",
            "Accuracy on test set: 0.8681\n",
            "INFO:tensorflow:Restoring parameters from /tmp/model.ckpt\n",
            "\n",
            "Accuracy on test set: 0.8677\n"
          ],
          "name": "stdout"
        }
      ]
    },
    {
      "cell_type": "markdown",
      "metadata": {
        "id": "845BLiIugXPW",
        "colab_type": "text"
      },
      "source": [
        "END LOOP"
      ]
    },
    {
      "cell_type": "markdown",
      "metadata": {
        "id": "E5wpXcRmur_X",
        "colab_type": "text"
      },
      "source": [
        "## unit pruning"
      ]
    },
    {
      "cell_type": "code",
      "metadata": {
        "id": "X9cP_uq2kq8O",
        "colab_type": "code",
        "outputId": "342b1353-88c7-474c-b843-7449fe402ae2",
        "colab": {
          "base_uri": "https://localhost:8080/",
          "height": 2567
        }
      },
      "source": [
        "unit_prune_plot_var = np.zeros(len(k))\n",
        "for p in range(len(k)):\n",
        "  saver.restore(sess, \"/tmp/model.ckpt\")\n",
        "\n",
        "  var1 = [v for v in tf.trainable_variables() if v.name == \"Variable_1:0\"]\n",
        "  var2 = [v for v in tf.trainable_variables() if v.name == \"Variable_2:0\"]\n",
        "  var3 = [v for v in tf.trainable_variables() if v.name == \"Variable_3:0\"]\n",
        "  var4 = [v for v in tf.trainable_variables() if v.name == \"Variable_4:0\"]\n",
        "  l=sess.run(var1)\n",
        "  l = np.array(l)\n",
        "  l =l.reshape(1000,1000)\n",
        "  m=sess.run(var2)\n",
        "  m = np.array(m)\n",
        "  m =m.reshape(1000,500)\n",
        "  n=sess.run(var3)\n",
        "  n = np.array(n)\n",
        "  n =n.reshape(500,200)\n",
        "  o=sess.run(var4)\n",
        "  o = np.array(o)\n",
        "  o =o.reshape(200,10)\n",
        "\n",
        "  ff = sess.run(tf.norm(b,ord=2,axis=1))\n",
        "  gg = sess.run(tf.norm(c,ord=2,axis=1))\n",
        "  hh = sess.run(tf.norm(d,ord=2,axis=1))\n",
        "  ii = sess.run(tf.norm(e,ord=2,axis=1))\n",
        "\n",
        "  w = get_indices_of_k_smallest(ff,int(1000*k[p]/100))\n",
        "  x = get_indices_of_k_smallest(gg,int(1000*k[p]/100))\n",
        "  y = get_indices_of_k_smallest(hh,int(500*k[p]/100))\n",
        "  z = get_indices_of_k_smallest(ii,int(200*k[p]/100))\n",
        "  for _ in w:\n",
        "    l[_[0]]=0\n",
        "  for _ in x:\n",
        "    m[_[0]]=0\n",
        "  for _ in y:\n",
        "    n[_[0]]=0\n",
        "  for _ in z:\n",
        "    o[_[0]]=0\n",
        "\n",
        "  sess.run(b.assign(l))\n",
        "  sess.run(c.assign(m))\n",
        "  sess.run(d.assign(n))\n",
        "  sess.run(e.assign(o))\n",
        "\n",
        "  test_accuracy = sess.run(accuracy, feed_dict={X: mnist.test.images, Y: mnist.test.labels, keep_prob: 1.0})\n",
        "  print(\"\\nAccuracy on test set:\", test_accuracy)  \n",
        "    \n",
        "  unit_prune_plot_var[p]=test_accuracy"
      ],
      "execution_count": 0,
      "outputs": [
        {
          "output_type": "stream",
          "text": [
            "INFO:tensorflow:Restoring parameters from /tmp/model.ckpt\n",
            "\n",
            "Accuracy on test set: 0.9127\n",
            "INFO:tensorflow:Restoring parameters from /tmp/model.ckpt\n",
            "\n",
            "Accuracy on test set: 0.8811\n",
            "INFO:tensorflow:Restoring parameters from /tmp/model.ckpt\n",
            "\n",
            "Accuracy on test set: 0.8609\n",
            "INFO:tensorflow:Restoring parameters from /tmp/model.ckpt\n",
            "\n",
            "Accuracy on test set: 0.7838\n",
            "INFO:tensorflow:Restoring parameters from /tmp/model.ckpt\n",
            "\n",
            "Accuracy on test set: 0.7109\n",
            "INFO:tensorflow:Restoring parameters from /tmp/model.ckpt\n",
            "\n",
            "Accuracy on test set: 0.6932\n",
            "INFO:tensorflow:Restoring parameters from /tmp/model.ckpt\n",
            "\n",
            "Accuracy on test set: 0.6984\n",
            "INFO:tensorflow:Restoring parameters from /tmp/model.ckpt\n",
            "\n",
            "Accuracy on test set: 0.5912\n",
            "INFO:tensorflow:Restoring parameters from /tmp/model.ckpt\n",
            "\n",
            "Accuracy on test set: 0.5055\n",
            "INFO:tensorflow:Restoring parameters from /tmp/model.ckpt\n",
            "\n",
            "Accuracy on test set: 0.4462\n",
            "INFO:tensorflow:Restoring parameters from /tmp/model.ckpt\n",
            "\n",
            "Accuracy on test set: 0.3931\n",
            "INFO:tensorflow:Restoring parameters from /tmp/model.ckpt\n",
            "\n",
            "Accuracy on test set: 0.4001\n",
            "INFO:tensorflow:Restoring parameters from /tmp/model.ckpt\n",
            "\n",
            "Accuracy on test set: 0.3778\n",
            "INFO:tensorflow:Restoring parameters from /tmp/model.ckpt\n",
            "\n",
            "Accuracy on test set: 0.3705\n",
            "INFO:tensorflow:Restoring parameters from /tmp/model.ckpt\n",
            "\n",
            "Accuracy on test set: 0.3309\n",
            "INFO:tensorflow:Restoring parameters from /tmp/model.ckpt\n",
            "\n",
            "Accuracy on test set: 0.2875\n",
            "INFO:tensorflow:Restoring parameters from /tmp/model.ckpt\n",
            "\n",
            "Accuracy on test set: 0.2662\n",
            "INFO:tensorflow:Restoring parameters from /tmp/model.ckpt\n",
            "\n",
            "Accuracy on test set: 0.2462\n",
            "INFO:tensorflow:Restoring parameters from /tmp/model.ckpt\n",
            "\n",
            "Accuracy on test set: 0.2288\n",
            "INFO:tensorflow:Restoring parameters from /tmp/model.ckpt\n",
            "\n",
            "Accuracy on test set: 0.2223\n",
            "INFO:tensorflow:Restoring parameters from /tmp/model.ckpt\n",
            "\n",
            "Accuracy on test set: 0.1908\n",
            "INFO:tensorflow:Restoring parameters from /tmp/model.ckpt\n",
            "\n",
            "Accuracy on test set: 0.1703\n",
            "INFO:tensorflow:Restoring parameters from /tmp/model.ckpt\n",
            "\n",
            "Accuracy on test set: 0.1653\n",
            "INFO:tensorflow:Restoring parameters from /tmp/model.ckpt\n",
            "\n",
            "Accuracy on test set: 0.1873\n",
            "INFO:tensorflow:Restoring parameters from /tmp/model.ckpt\n",
            "\n",
            "Accuracy on test set: 0.1666\n",
            "INFO:tensorflow:Restoring parameters from /tmp/model.ckpt\n",
            "\n",
            "Accuracy on test set: 0.1855\n",
            "INFO:tensorflow:Restoring parameters from /tmp/model.ckpt\n",
            "\n",
            "Accuracy on test set: 0.1516\n",
            "INFO:tensorflow:Restoring parameters from /tmp/model.ckpt\n",
            "\n",
            "Accuracy on test set: 0.1572\n",
            "INFO:tensorflow:Restoring parameters from /tmp/model.ckpt\n",
            "\n",
            "Accuracy on test set: 0.1861\n",
            "INFO:tensorflow:Restoring parameters from /tmp/model.ckpt\n",
            "\n",
            "Accuracy on test set: 0.1675\n",
            "INFO:tensorflow:Restoring parameters from /tmp/model.ckpt\n",
            "\n",
            "Accuracy on test set: 0.1622\n",
            "INFO:tensorflow:Restoring parameters from /tmp/model.ckpt\n",
            "\n",
            "Accuracy on test set: 0.1855\n",
            "INFO:tensorflow:Restoring parameters from /tmp/model.ckpt\n",
            "\n",
            "Accuracy on test set: 0.1342\n",
            "INFO:tensorflow:Restoring parameters from /tmp/model.ckpt\n",
            "\n",
            "Accuracy on test set: 0.1521\n",
            "INFO:tensorflow:Restoring parameters from /tmp/model.ckpt\n",
            "\n",
            "Accuracy on test set: 0.131\n",
            "INFO:tensorflow:Restoring parameters from /tmp/model.ckpt\n",
            "\n",
            "Accuracy on test set: 0.1188\n",
            "INFO:tensorflow:Restoring parameters from /tmp/model.ckpt\n",
            "\n",
            "Accuracy on test set: 0.0906\n",
            "INFO:tensorflow:Restoring parameters from /tmp/model.ckpt\n",
            "\n",
            "Accuracy on test set: 0.1036\n",
            "INFO:tensorflow:Restoring parameters from /tmp/model.ckpt\n",
            "\n",
            "Accuracy on test set: 0.0817\n",
            "INFO:tensorflow:Restoring parameters from /tmp/model.ckpt\n",
            "\n",
            "Accuracy on test set: 0.0951\n",
            "INFO:tensorflow:Restoring parameters from /tmp/model.ckpt\n",
            "\n",
            "Accuracy on test set: 0.0743\n",
            "INFO:tensorflow:Restoring parameters from /tmp/model.ckpt\n",
            "\n",
            "Accuracy on test set: 0.0796\n",
            "INFO:tensorflow:Restoring parameters from /tmp/model.ckpt\n",
            "\n",
            "Accuracy on test set: 0.0917\n",
            "INFO:tensorflow:Restoring parameters from /tmp/model.ckpt\n",
            "\n",
            "Accuracy on test set: 0.0536\n",
            "INFO:tensorflow:Restoring parameters from /tmp/model.ckpt\n",
            "\n",
            "Accuracy on test set: 0.0889\n",
            "INFO:tensorflow:Restoring parameters from /tmp/model.ckpt\n",
            "\n",
            "Accuracy on test set: 0.0731\n",
            "INFO:tensorflow:Restoring parameters from /tmp/model.ckpt\n",
            "\n",
            "Accuracy on test set: 0.1113\n",
            "INFO:tensorflow:Restoring parameters from /tmp/model.ckpt\n",
            "\n",
            "Accuracy on test set: 0.0933\n",
            "INFO:tensorflow:Restoring parameters from /tmp/model.ckpt\n",
            "\n",
            "Accuracy on test set: 0.0909\n",
            "INFO:tensorflow:Restoring parameters from /tmp/model.ckpt\n",
            "\n",
            "Accuracy on test set: 0.0695\n"
          ],
          "name": "stdout"
        }
      ]
    },
    {
      "cell_type": "code",
      "metadata": {
        "id": "utOTJbudkD9d",
        "colab_type": "code",
        "colab": {}
      },
      "source": [
        "import matplotlib.pyplot as plt"
      ],
      "execution_count": 0,
      "outputs": []
    },
    {
      "cell_type": "code",
      "metadata": {
        "id": "-4HWc4BqkK_h",
        "colab_type": "code",
        "outputId": "3ee013a3-f6e1-43af-eb30-52692b2a2d0a",
        "colab": {
          "base_uri": "https://localhost:8080/",
          "height": 283
        }
      },
      "source": [
        "plt.plot(k,plt_var,'b+',label=\"weight pruning\")\n",
        "plt.plot(k, unit_prune_plot_var,'ro',label=\"unit pruning\")\n",
        "plt.xlabel(\"% sparsity\")\n",
        "plt.ylabel(\"% accuracy\")\n",
        "plt.legend()\n",
        "plt.show()\n"
      ],
      "execution_count": 0,
      "outputs": [
        {
          "output_type": "display_data",
          "data": {
            "image/png": "[encoded data removed]",
            "text/plain": [
              "<Figure size 432x288 with 1 Axes>"
            ]
          },
          "metadata": {
            "tags": []
          }
        }
      ]
    },
    {
      "cell_type": "code",
      "metadata": {
        "id": "pvRWz-aDHR4Q",
        "colab_type": "code",
        "outputId": "8c8e6c2d-0c8c-462a-c537-78861ec43a63",
        "colab": {
          "base_uri": "https://localhost:8080/",
          "height": 549
        }
      },
      "source": [
        "plt.plot(k,plt_var,'b')\n",
        "plt.xlabel(\"% sparsity\")\n",
        "plt.ylabel(\"% accuracy\")\n",
        "plt.show()\n",
        "plt.plot(k,unit_prune_plot_var,'r')\n",
        "plt.xlabel(\"% sparsity\")\n",
        "plt.ylabel(\"% accuracy\")\n",
        "plt.show()"
      ],
      "execution_count": 0,
      "outputs": [
        {
          "output_type": "display_data",
          "data": {
            "image/png": "[encoded data removed]",
            "text/plain": [
              "<Figure size 432x288 with 1 Axes>"
            ]
          },
          "metadata": {
            "tags": []
          }
        },
        {
          "output_type": "display_data",
          "data": {
            "image/png": "[encoded data removed]",
            "text/plain": [
              "<Figure size 432x288 with 1 Axes>"
            ]
          },
          "metadata": {
            "tags": []
          }
        }
      ]
    },
    {
      "cell_type": "code",
      "metadata": {
        "id": "nZ5p0zbX8Z9W",
        "colab_type": "code",
        "outputId": "3bb394c2-5b5f-4e4d-c3da-0a186d6cb3c0",
        "colab": {
          "base_uri": "https://localhost:8080/",
          "height": 1599
        }
      },
      "source": [
        "#dic1 = {k:unit_prune_plot_var}\n",
        "#dic2 = {k:plt_var}\n",
        "\n",
        "\n",
        "pd.DataFrame({'K% Sparsity':k,'WP acc.':plt_var,'UP acc.':unit_prune_plot_var})"
      ],
      "execution_count": 0,
      "outputs": [
        {
          "output_type": "execute_result",
          "data": {
            "text/html": [
              "<div>\n",
              "<style scoped>\n",
              "    .dataframe tbody tr th:only-of-type {\n",
              "        vertical-align: middle;\n",
              "    }\n",
              "\n",
              "    .dataframe tbody tr th {\n",
              "        vertical-align: top;\n",
              "    }\n",
              "\n",
              "    .dataframe thead th {\n",
              "        text-align: right;\n",
              "    }\n",
              "</style>\n",
              "<table border=\"1\" class=\"dataframe\">\n",
              "  <thead>\n",
              "    <tr style=\"text-align: right;\">\n",
              "      <th></th>\n",
              "      <th>K% Sparsity</th>\n",
              "      <th>WP acc.</th>\n",
              "      <th>UP acc.</th>\n",
              "    </tr>\n",
              "  </thead>\n",
              "  <tbody>\n",
              "    <tr>\n",
              "      <th>0</th>\n",
              "      <td>0</td>\n",
              "      <td>0.9127</td>\n",
              "      <td>0.9127</td>\n",
              "    </tr>\n",
              "    <tr>\n",
              "      <th>1</th>\n",
              "      <td>2</td>\n",
              "      <td>0.9115</td>\n",
              "      <td>0.8811</td>\n",
              "    </tr>\n",
              "    <tr>\n",
              "      <th>2</th>\n",
              "      <td>4</td>\n",
              "      <td>0.9104</td>\n",
              "      <td>0.8609</td>\n",
              "    </tr>\n",
              "    <tr>\n",
              "      <th>3</th>\n",
              "      <td>6</td>\n",
              "      <td>0.9087</td>\n",
              "      <td>0.7838</td>\n",
              "    </tr>\n",
              "    <tr>\n",
              "      <th>4</th>\n",
              "      <td>8</td>\n",
              "      <td>0.9082</td>\n",
              "      <td>0.7109</td>\n",
              "    </tr>\n",
              "    <tr>\n",
              "      <th>5</th>\n",
              "      <td>10</td>\n",
              "      <td>0.9076</td>\n",
              "      <td>0.6932</td>\n",
              "    </tr>\n",
              "    <tr>\n",
              "      <th>6</th>\n",
              "      <td>12</td>\n",
              "      <td>0.9067</td>\n",
              "      <td>0.6984</td>\n",
              "    </tr>\n",
              "    <tr>\n",
              "      <th>7</th>\n",
              "      <td>14</td>\n",
              "      <td>0.9057</td>\n",
              "      <td>0.5912</td>\n",
              "    </tr>\n",
              "    <tr>\n",
              "      <th>8</th>\n",
              "      <td>16</td>\n",
              "      <td>0.9054</td>\n",
              "      <td>0.5055</td>\n",
              "    </tr>\n",
              "    <tr>\n",
              "      <th>9</th>\n",
              "      <td>18</td>\n",
              "      <td>0.9046</td>\n",
              "      <td>0.4462</td>\n",
              "    </tr>\n",
              "    <tr>\n",
              "      <th>10</th>\n",
              "      <td>20</td>\n",
              "      <td>0.9028</td>\n",
              "      <td>0.3931</td>\n",
              "    </tr>\n",
              "    <tr>\n",
              "      <th>11</th>\n",
              "      <td>22</td>\n",
              "      <td>0.9024</td>\n",
              "      <td>0.4001</td>\n",
              "    </tr>\n",
              "    <tr>\n",
              "      <th>12</th>\n",
              "      <td>24</td>\n",
              "      <td>0.9011</td>\n",
              "      <td>0.3778</td>\n",
              "    </tr>\n",
              "    <tr>\n",
              "      <th>13</th>\n",
              "      <td>26</td>\n",
              "      <td>0.8984</td>\n",
              "      <td>0.3705</td>\n",
              "    </tr>\n",
              "    <tr>\n",
              "      <th>14</th>\n",
              "      <td>28</td>\n",
              "      <td>0.8983</td>\n",
              "      <td>0.3309</td>\n",
              "    </tr>\n",
              "    <tr>\n",
              "      <th>15</th>\n",
              "      <td>30</td>\n",
              "      <td>0.8977</td>\n",
              "      <td>0.2875</td>\n",
              "    </tr>\n",
              "    <tr>\n",
              "      <th>16</th>\n",
              "      <td>32</td>\n",
              "      <td>0.8960</td>\n",
              "      <td>0.2662</td>\n",
              "    </tr>\n",
              "    <tr>\n",
              "      <th>17</th>\n",
              "      <td>34</td>\n",
              "      <td>0.8977</td>\n",
              "      <td>0.2462</td>\n",
              "    </tr>\n",
              "    <tr>\n",
              "      <th>18</th>\n",
              "      <td>36</td>\n",
              "      <td>0.8976</td>\n",
              "      <td>0.2288</td>\n",
              "    </tr>\n",
              "    <tr>\n",
              "      <th>19</th>\n",
              "      <td>38</td>\n",
              "      <td>0.8957</td>\n",
              "      <td>0.2223</td>\n",
              "    </tr>\n",
              "    <tr>\n",
              "      <th>20</th>\n",
              "      <td>40</td>\n",
              "      <td>0.8932</td>\n",
              "      <td>0.1908</td>\n",
              "    </tr>\n",
              "    <tr>\n",
              "      <th>21</th>\n",
              "      <td>42</td>\n",
              "      <td>0.8921</td>\n",
              "      <td>0.1703</td>\n",
              "    </tr>\n",
              "    <tr>\n",
              "      <th>22</th>\n",
              "      <td>44</td>\n",
              "      <td>0.8922</td>\n",
              "      <td>0.1653</td>\n",
              "    </tr>\n",
              "    <tr>\n",
              "      <th>23</th>\n",
              "      <td>46</td>\n",
              "      <td>0.8912</td>\n",
              "      <td>0.1873</td>\n",
              "    </tr>\n",
              "    <tr>\n",
              "      <th>24</th>\n",
              "      <td>48</td>\n",
              "      <td>0.8884</td>\n",
              "      <td>0.1666</td>\n",
              "    </tr>\n",
              "    <tr>\n",
              "      <th>25</th>\n",
              "      <td>50</td>\n",
              "      <td>0.8863</td>\n",
              "      <td>0.1855</td>\n",
              "    </tr>\n",
              "    <tr>\n",
              "      <th>26</th>\n",
              "      <td>52</td>\n",
              "      <td>0.8830</td>\n",
              "      <td>0.1516</td>\n",
              "    </tr>\n",
              "    <tr>\n",
              "      <th>27</th>\n",
              "      <td>54</td>\n",
              "      <td>0.8807</td>\n",
              "      <td>0.1572</td>\n",
              "    </tr>\n",
              "    <tr>\n",
              "      <th>28</th>\n",
              "      <td>56</td>\n",
              "      <td>0.8813</td>\n",
              "      <td>0.1861</td>\n",
              "    </tr>\n",
              "    <tr>\n",
              "      <th>29</th>\n",
              "      <td>58</td>\n",
              "      <td>0.8802</td>\n",
              "      <td>0.1675</td>\n",
              "    </tr>\n",
              "    <tr>\n",
              "      <th>30</th>\n",
              "      <td>60</td>\n",
              "      <td>0.8794</td>\n",
              "      <td>0.1622</td>\n",
              "    </tr>\n",
              "    <tr>\n",
              "      <th>31</th>\n",
              "      <td>62</td>\n",
              "      <td>0.8797</td>\n",
              "      <td>0.1855</td>\n",
              "    </tr>\n",
              "    <tr>\n",
              "      <th>32</th>\n",
              "      <td>64</td>\n",
              "      <td>0.8804</td>\n",
              "      <td>0.1342</td>\n",
              "    </tr>\n",
              "    <tr>\n",
              "      <th>33</th>\n",
              "      <td>66</td>\n",
              "      <td>0.8808</td>\n",
              "      <td>0.1521</td>\n",
              "    </tr>\n",
              "    <tr>\n",
              "      <th>34</th>\n",
              "      <td>68</td>\n",
              "      <td>0.8777</td>\n",
              "      <td>0.1310</td>\n",
              "    </tr>\n",
              "    <tr>\n",
              "      <th>35</th>\n",
              "      <td>70</td>\n",
              "      <td>0.8769</td>\n",
              "      <td>0.1188</td>\n",
              "    </tr>\n",
              "    <tr>\n",
              "      <th>36</th>\n",
              "      <td>72</td>\n",
              "      <td>0.8782</td>\n",
              "      <td>0.0906</td>\n",
              "    </tr>\n",
              "    <tr>\n",
              "      <th>37</th>\n",
              "      <td>74</td>\n",
              "      <td>0.8786</td>\n",
              "      <td>0.1036</td>\n",
              "    </tr>\n",
              "    <tr>\n",
              "      <th>38</th>\n",
              "      <td>76</td>\n",
              "      <td>0.8789</td>\n",
              "      <td>0.0817</td>\n",
              "    </tr>\n",
              "    <tr>\n",
              "      <th>39</th>\n",
              "      <td>78</td>\n",
              "      <td>0.8785</td>\n",
              "      <td>0.0951</td>\n",
              "    </tr>\n",
              "    <tr>\n",
              "      <th>40</th>\n",
              "      <td>80</td>\n",
              "      <td>0.8771</td>\n",
              "      <td>0.0743</td>\n",
              "    </tr>\n",
              "    <tr>\n",
              "      <th>41</th>\n",
              "      <td>82</td>\n",
              "      <td>0.8771</td>\n",
              "      <td>0.0796</td>\n",
              "    </tr>\n",
              "    <tr>\n",
              "      <th>42</th>\n",
              "      <td>84</td>\n",
              "      <td>0.8738</td>\n",
              "      <td>0.0917</td>\n",
              "    </tr>\n",
              "    <tr>\n",
              "      <th>43</th>\n",
              "      <td>86</td>\n",
              "      <td>0.8718</td>\n",
              "      <td>0.0536</td>\n",
              "    </tr>\n",
              "    <tr>\n",
              "      <th>44</th>\n",
              "      <td>88</td>\n",
              "      <td>0.8709</td>\n",
              "      <td>0.0889</td>\n",
              "    </tr>\n",
              "    <tr>\n",
              "      <th>45</th>\n",
              "      <td>90</td>\n",
              "      <td>0.8703</td>\n",
              "      <td>0.0731</td>\n",
              "    </tr>\n",
              "    <tr>\n",
              "      <th>46</th>\n",
              "      <td>92</td>\n",
              "      <td>0.8676</td>\n",
              "      <td>0.1113</td>\n",
              "    </tr>\n",
              "    <tr>\n",
              "      <th>47</th>\n",
              "      <td>94</td>\n",
              "      <td>0.8667</td>\n",
              "      <td>0.0933</td>\n",
              "    </tr>\n",
              "    <tr>\n",
              "      <th>48</th>\n",
              "      <td>96</td>\n",
              "      <td>0.8681</td>\n",
              "      <td>0.0909</td>\n",
              "    </tr>\n",
              "    <tr>\n",
              "      <th>49</th>\n",
              "      <td>98</td>\n",
              "      <td>0.8677</td>\n",
              "      <td>0.0695</td>\n",
              "    </tr>\n",
              "  </tbody>\n",
              "</table>\n",
              "</div>"
            ],
            "text/plain": [
              "    K% Sparsity  WP acc.  UP acc.\n",
              "0             0   0.9127   0.9127\n",
              "1             2   0.9115   0.8811\n",
              "2             4   0.9104   0.8609\n",
              "3             6   0.9087   0.7838\n",
              "4             8   0.9082   0.7109\n",
              "5            10   0.9076   0.6932\n",
              "6            12   0.9067   0.6984\n",
              "7            14   0.9057   0.5912\n",
              "8            16   0.9054   0.5055\n",
              "9            18   0.9046   0.4462\n",
              "10           20   0.9028   0.3931\n",
              "11           22   0.9024   0.4001\n",
              "12           24   0.9011   0.3778\n",
              "13           26   0.8984   0.3705\n",
              "14           28   0.8983   0.3309\n",
              "15           30   0.8977   0.2875\n",
              "16           32   0.8960   0.2662\n",
              "17           34   0.8977   0.2462\n",
              "18           36   0.8976   0.2288\n",
              "19           38   0.8957   0.2223\n",
              "20           40   0.8932   0.1908\n",
              "21           42   0.8921   0.1703\n",
              "22           44   0.8922   0.1653\n",
              "23           46   0.8912   0.1873\n",
              "24           48   0.8884   0.1666\n",
              "25           50   0.8863   0.1855\n",
              "26           52   0.8830   0.1516\n",
              "27           54   0.8807   0.1572\n",
              "28           56   0.8813   0.1861\n",
              "29           58   0.8802   0.1675\n",
              "30           60   0.8794   0.1622\n",
              "31           62   0.8797   0.1855\n",
              "32           64   0.8804   0.1342\n",
              "33           66   0.8808   0.1521\n",
              "34           68   0.8777   0.1310\n",
              "35           70   0.8769   0.1188\n",
              "36           72   0.8782   0.0906\n",
              "37           74   0.8786   0.1036\n",
              "38           76   0.8789   0.0817\n",
              "39           78   0.8785   0.0951\n",
              "40           80   0.8771   0.0743\n",
              "41           82   0.8771   0.0796\n",
              "42           84   0.8738   0.0917\n",
              "43           86   0.8718   0.0536\n",
              "44           88   0.8709   0.0889\n",
              "45           90   0.8703   0.0731\n",
              "46           92   0.8676   0.1113\n",
              "47           94   0.8667   0.0933\n",
              "48           96   0.8681   0.0909\n",
              "49           98   0.8677   0.0695"
            ]
          },
          "metadata": {
            "tags": []
          },
          "execution_count": 36
        }
      ]
    },
    {
      "cell_type": "code",
      "metadata": {
        "id": "CO2MoBiodG6b",
        "colab_type": "code",
        "outputId": "67a23e87-66dd-4323-d694-586c2e4ed857",
        "colab": {
          "base_uri": "https://localhost:8080/",
          "height": 54
        }
      },
      "source": [
        "\"\"\"def NN_model(data):\n",
        "  hidden1 = {'weights':tf.Variable(tf.random_normal([784,nodes_h1])),'biases':tf.Variable(tf.random_normal([nodes_h1]))}\n",
        "  hidden2 = {'weights':tf.Variable(tf.random_normal([nodes_h1,nodes_h2])),'biases':tf.Variable(tf.random_normal([nodes_h2]))}\n",
        "  hidden3 = {'weights':tf.Variable(tf.random_normal([nodes_h2,nodes_h3])),'biases':tf.Variable(tf.random_normal([nodes_h3]))}\n",
        "  hidden4 = {'weights':tf.Variable(tf.random_normal([nodes_h3,nodes_h4])),'biases':tf.Variable(tf.random_normal([nodes_h4]))}\n",
        "  output = {'weights':tf.Variable(tf.random_normal([nodes_h4,num_classes])),'biases':tf.Variable(tf.random_normal([num_classes]))}\n",
        "   \n",
        "  layer1 = tf.add(tf.matmul(data,hidden1['weights']),hidden1['biases'])\n",
        "  layer1 = tf.nn.relu(layer1)\n",
        "  \n",
        "  layer2 = tf.add(tf.matmul(layer1,hidden2['weights']),hidden2['biases'])\n",
        "  layer2 = tf.nn.relu(layer2)\n",
        "  \n",
        "  layer3 = tf.add(tf.matmul(layer2,hidden3['weights']),hidden3['biases'])\n",
        "  layer3 = tf.nn.relu(layer3)\n",
        " \n",
        "  layer4 = tf.add(tf.matmul(layer3,hidden4['weights']),hidden4['biases'])\n",
        "  layer4 = tf.nn.relu(layer4)\n",
        "   \n",
        "  \n",
        "  output_layer = tf.matmul(layer4,output['weights']),output['biases']\n",
        "\n",
        "  return output_layer\n",
        "\"\"\"  "
      ],
      "execution_count": 0,
      "outputs": [
        {
          "output_type": "execute_result",
          "data": {
            "text/plain": [
              "\"def NN_model(data):\\n  hidden1 = {'weights':tf.Variable(tf.random_normal([784,nodes_h1])),'biases':tf.Variable(tf.random_normal([nodes_h1]))}\\n  hidden2 = {'weights':tf.Variable(tf.random_normal([nodes_h1,nodes_h2])),'biases':tf.Variable(tf.random_normal([nodes_h2]))}\\n  hidden3 = {'weights':tf.Variable(tf.random_normal([nodes_h2,nodes_h3])),'biases':tf.Variable(tf.random_normal([nodes_h3]))}\\n  hidden4 = {'weights':tf.Variable(tf.random_normal([nodes_h3,nodes_h4])),'biases':tf.Variable(tf.random_normal([nodes_h4]))}\\n  output = {'weights':tf.Variable(tf.random_normal([nodes_h4,num_classes])),'biases':tf.Variable(tf.random_normal([num_classes]))}\\n   \\n  layer1 = tf.add(tf.matmul(data,hidden1['weights']),hidden1['biases'])\\n  layer1 = tf.nn.relu(layer1)\\n  \\n  layer2 = tf.add(tf.matmul(layer1,hidden2['weights']),hidden2['biases'])\\n  layer2 = tf.nn.relu(layer2)\\n  \\n  layer3 = tf.add(tf.matmul(layer2,hidden3['weights']),hidden3['biases'])\\n  layer3 = tf.nn.relu(layer3)\\n \\n  layer4 = tf.add(tf.matmul(layer3,hidden4['weights']),hidden4['biases'])\\n  layer4 = tf.nn.relu(layer4)\\n   \\n  \\n  output_layer = tf.matmul(layer4,output['weights']),output['biases']\\n\\n  return output_layer\\n\""
            ]
          },
          "metadata": {
            "tags": []
          },
          "execution_count": 30
        }
      ]
    },
    {
      "cell_type": "code",
      "metadata": {
        "id": "vT0P_8UsmlWz",
        "colab_type": "code",
        "outputId": "03ff5b1e-5355-4b3e-fa09-c7f8d855667c",
        "colab": {
          "base_uri": "https://localhost:8080/",
          "height": 54
        }
      },
      "source": [
        "\"\"\"def train(x):\n",
        "  predict = NN_model(x)\n",
        "  cost = tf.reduce_mean(tf.nn.softmax_cross_entropy_with_logits(logits=predict,labels=y))\n",
        "  \n",
        "  optimizer = tf.train.AdamOptimizer().minimize(cost)\n",
        "  \n",
        "  with tf.Session as sess:\n",
        "      sess.run(tf.initialize_all_variables())\n",
        "      \n",
        "      for i in epoch:\n",
        "        loss =0\n",
        "        for _ in range(int(mnist.train.num_examples/batch_size)):\n",
        "          a,b= mnist.train.next_batch(batch_size)\n",
        "          _,c = sess.run([optimizer,cost],feed_dict={x:a, y:b})\n",
        "          loss += c\n",
        "        print('Epoch',i,'completed out of',epoch,'loss:',loss)\n",
        "        \n",
        "        correct = tf.equal(tf.argmax(prediction,1),tf.argmax(y,1))\n",
        "        \n",
        "        accuracy = tf.reduce_mean(tf.cast(correct,'float'))\n",
        "        print('Accuracy:',accuracy.eval({x:mnist.test.images, y:mnist.test.labels}))\n",
        "        \n",
        "\"\"\"       "
      ],
      "execution_count": 0,
      "outputs": [
        {
          "output_type": "execute_result",
          "data": {
            "text/plain": [
              "\"def train(x):\\n  predict = NN_model(x)\\n  cost = tf.reduce_mean(tf.nn.softmax_cross_entropy_with_logits(logits=predict,labels=y))\\n  \\n  optimizer = tf.train.AdamOptimizer().minimize(cost)\\n  \\n  with tf.Session as sess:\\n      sess.run(tf.initialize_all_variables())\\n      \\n      for i in epoch:\\n        loss =0\\n        for _ in range(int(mnist.train.num_examples/batch_size)):\\n          a,b= mnist.train.next_batch(batch_size)\\n          _,c = sess.run([optimizer,cost],feed_dict={x:a, y:b})\\n          loss += c\\n        print('Epoch',i,'completed out of',epoch,'loss:',loss)\\n        \\n        correct = tf.equal(tf.argmax(prediction,1),tf.argmax(y,1))\\n        \\n        accuracy = tf.reduce_mean(tf.cast(correct,'float'))\\n        print('Accuracy:',accuracy.eval({x:mnist.test.images, y:mnist.test.labels}))\\n        \\n\""
            ]
          },
          "metadata": {
            "tags": []
          },
          "execution_count": 31
        }
      ]
    },
    {
      "cell_type": "code",
      "metadata": {
        "id": "et1ZqukUTHY8",
        "colab_type": "code",
        "colab": {}
      },
      "source": [
        ""
      ],
      "execution_count": 0,
      "outputs": []
    }
  ]
}